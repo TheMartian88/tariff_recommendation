{
 "cells": [
  {
   "cell_type": "markdown",
   "id": "18129216",
   "metadata": {
    "tags": []
   },
   "source": [
    "# Рекомендация тарифов <a id=\"intro\"></a>"
   ]
  },
  {
   "cell_type": "markdown",
   "id": "aa6a2eda",
   "metadata": {
    "toc": true
   },
   "source": [
    "<h1>Содержание<span class=\"tocSkip\"></span></h1>\n",
    "<div class=\"toc\"><ul class=\"toc-item\"><li><span><a href=\"#Описание\" data-toc-modified-id=\"Описание-1\"><span class=\"toc-item-num\">1&nbsp;&nbsp;</span>Описание</a></span></li><li><span><a href=\"#Импорт-необходимых-библиотек\" data-toc-modified-id=\"Импорт-необходимых-библиотек-2\"><span class=\"toc-item-num\">2&nbsp;&nbsp;</span>Импорт необходимых библиотек</a></span></li><li><span><a href=\"#Разбивка-данных-на-выборки\" data-toc-modified-id=\"Разбивка-данных-на-выборки-3\"><span class=\"toc-item-num\">3&nbsp;&nbsp;</span>Разбивка данных на выборки</a></span></li><li><span><a href=\"#Настройка,-обучение-и-проверка-моделей-на-валидационной-выборке\" data-toc-modified-id=\"Настройка,-обучение-и-проверка-моделей-на-валидационной-выборке-4\"><span class=\"toc-item-num\">4&nbsp;&nbsp;</span>Настройка, обучение и проверка моделей на валидационной выборке</a></span></li><li><span><a href=\"#Проверка-моделей-на-тестовой-выборке\" data-toc-modified-id=\"Проверка-моделей-на-тестовой-выборке-5\"><span class=\"toc-item-num\">5&nbsp;&nbsp;</span>Проверка моделей на тестовой выборке</a></span></li><li><span><a href=\"#Проверка-моделей-на-вменяемость\" data-toc-modified-id=\"Проверка-моделей-на-вменяемость-6\"><span class=\"toc-item-num\">6&nbsp;&nbsp;</span>Проверка моделей на вменяемость</a></span></li><li><span><a href=\"#Выводы\" data-toc-modified-id=\"Выводы-7\"><span class=\"toc-item-num\">7&nbsp;&nbsp;</span>Выводы</a></span></li></ul></div>"
   ]
  },
  {
   "cell_type": "markdown",
   "id": "00c92e62",
   "metadata": {},
   "source": [
    "## Описание"
   ]
  },
  {
   "cell_type": "markdown",
   "id": "95f54948-5122-483b-b8a0-a3ba80144890",
   "metadata": {},
   "source": [
    "Оператор мобильной связи «Мегалайн» установил, что многие клиенты пользуются архивными тарифами и планирует построить систему, способную анализировать поведение клиентов и предлагать пользователям новый тариф: «Смарт» или «Ультра».\n",
    "\n",
    "В распоряжении данные о поведении клиентов, которые уже перешли на эти тарифы. Нужно построить модель с максимально большим значением Accuracy для задачи классификации, которая выберет подходящий тариф. Доля правильных ответов должна быть не менее 0.75."
   ]
  },
  {
   "cell_type": "markdown",
   "id": "2942c707-33f5-4b0f-afb4-94104f8235fe",
   "metadata": {},
   "source": [
    "## Импорт необходимых библиотек"
   ]
  },
  {
   "cell_type": "code",
   "execution_count": 1,
   "id": "24ae438c-4529-4351-b76d-3ecd926b54e4",
   "metadata": {},
   "outputs": [],
   "source": [
    "import pandas as pd\n",
    "from sklearn.tree import DecisionTreeClassifier\n",
    "from sklearn.ensemble import RandomForestClassifier\n",
    "from sklearn.linear_model import LogisticRegression\n",
    "from sklearn.dummy import DummyClassifier\n",
    "from sklearn.model_selection import train_test_split\n",
    "from sklearn.metrics import accuracy_score"
   ]
  },
  {
   "cell_type": "markdown",
   "id": "54ebf2b0-832f-4e2d-b5ed-d7361e2b430c",
   "metadata": {
    "tags": []
   },
   "source": [
    "## Разбивка данных на выборки"
   ]
  },
  {
   "cell_type": "markdown",
   "id": "4804b0b1-f4b0-4198-a27b-043ae35511d9",
   "metadata": {},
   "source": [
    "Прочитаем информацию из файла."
   ]
  },
  {
   "cell_type": "code",
   "execution_count": 2,
   "id": "77700b9c-6cdd-4e34-a329-caacf9547e35",
   "metadata": {},
   "outputs": [],
   "source": [
    "data = pd.read_csv(\"users_behavior.csv\")"
   ]
  },
  {
   "cell_type": "markdown",
   "id": "a91a59af-1cc4-4921-bb47-534b5c04a5b7",
   "metadata": {},
   "source": [
    "Разобьем датафрейм на целевой признак и все остальные признаки."
   ]
  },
  {
   "cell_type": "code",
   "execution_count": 3,
   "id": "38975225-6833-4dad-bd80-c29aa56c0c6f",
   "metadata": {},
   "outputs": [],
   "source": [
    "features = data.drop(\"is_ultra\", axis=1)\n",
    "target = data[\"is_ultra\"]"
   ]
  },
  {
   "cell_type": "markdown",
   "id": "66ff4be0-b57f-4cc0-863c-51c1f8624d03",
   "metadata": {},
   "source": [
    "Разобъем целевой признак и все остальные признаки на обучающую, валидационную, тестовую выборки в сотношении 3:1:1 "
   ]
  },
  {
   "cell_type": "code",
   "execution_count": 4,
   "id": "4714abf7-4f97-46e0-b7b7-ec1a65c66311",
   "metadata": {},
   "outputs": [
    {
     "name": "stdout",
     "output_type": "stream",
     "text": [
      "(1928, 4)\n",
      "(1928,)\n",
      "(643, 4)\n",
      "(643,)\n",
      "(643, 4)\n",
      "(643,)\n"
     ]
    }
   ],
   "source": [
    "features_train, features_test, target_train, target_test = train_test_split(features, target, test_size=0.20, random_state=12345)\n",
    "features_train, features_valid, target_train, target_valid = train_test_split(features_train, target_train, test_size=0.25, random_state=12345)\n",
    "print(features_train.shape) #  признаки обучающей выборки\n",
    "print(target_train.shape) # целевой признак обучающей выборки\n",
    "print(features_valid.shape) #  признаки валидационной выборки\n",
    "print(target_valid.shape) # целевой признак валидационной выборки\n",
    "print(features_test.shape) # признаки тестовой выборки\n",
    "print(target_test.shape) # целевой признак тестовой выборки"
   ]
  },
  {
   "cell_type": "markdown",
   "id": "a960ea61-a165-4a46-9b8b-b2c2ce307b56",
   "metadata": {},
   "source": [
    "[В начало](#intro)"
   ]
  },
  {
   "cell_type": "markdown",
   "id": "f25fb8af-c057-4f49-8eab-f9f895f5387b",
   "metadata": {},
   "source": [
    "## Настройка, обучение и проверка моделей на валидационной выборке"
   ]
  },
  {
   "cell_type": "markdown",
   "id": "5ca0ad73-2169-466d-8c0d-78d2fdcb3a19",
   "metadata": {},
   "source": [
    "Используем модель дерево решений с гиперпараметром глубины для получения наилучшего Accuracy."
   ]
  },
  {
   "cell_type": "code",
   "execution_count": 5,
   "id": "388df6c9-25b2-43c1-b56a-e4d64066413c",
   "metadata": {},
   "outputs": [
    {
     "name": "stdout",
     "output_type": "stream",
     "text": [
      "Accuracy налучшей модели на валидационной выборке: 0.7651632970451011 Глубина модели: 3\n"
     ]
    }
   ],
   "source": [
    "# Дерево решений\n",
    "best_tree_model = None\n",
    "best_tree_valid_result = 0\n",
    "best_depth = 0\n",
    "for depth in range(1, 6):\n",
    "    model = DecisionTreeClassifier(random_state=12345, max_depth=depth)\n",
    "    model.fit(features_train, target_train)\n",
    "    prediction_valid = model.predict(features_valid)\n",
    "    result = accuracy_score(prediction_valid, target_valid)\n",
    "    if result > best_tree_valid_result:\n",
    "        best_tree_valid_result = result\n",
    "        best_tree_model = model\n",
    "        best_depth = depth\n",
    "print(\"Accuracy налучшей модели на валидационной выборке:\", best_tree_valid_result, \"Глубина модели:\", best_depth)    "
   ]
  },
  {
   "cell_type": "markdown",
   "id": "dad79f04-474c-4b97-9655-1a3865a2001c",
   "metadata": {},
   "source": [
    "Используем модель случайного леса. Настроим для начала гиперпараметр количество оценщиков, которая дает наилучший результат Accuracy."
   ]
  },
  {
   "cell_type": "code",
   "execution_count": 6,
   "id": "a7d51c65-3c22-4fe6-a45c-bae4afaef6e3",
   "metadata": {},
   "outputs": [
    {
     "name": "stdout",
     "output_type": "stream",
     "text": [
      "Accuracy наилучшей модели на валидационной выборке 0.7884914463452566 Количество оценщиков: 10\n"
     ]
    }
   ],
   "source": [
    "# Модель случайный лес без глубины\n",
    "best_forest_model = None\n",
    "best_forest_valid_result = 0\n",
    "best_est = 0\n",
    "for est in range(1, 15):\n",
    "    model = RandomForestClassifier(random_state=12345, n_estimators=est)\n",
    "    model.fit(features_train, target_train)\n",
    "    prediction_valid = model.predict(features_valid)\n",
    "    result = accuracy_score(target_valid, prediction_valid)\n",
    "    if result > best_forest_valid_result:\n",
    "        best_forest_valid_result = result\n",
    "        best_forest_model = model\n",
    "        best_est = est\n",
    "print(\"Accuracy наилучшей модели на валидационной выборке\", best_forest_valid_result, \"Количество оценщиков:\", best_est)"
   ]
  },
  {
   "cell_type": "markdown",
   "id": "c74e3ef1-39cb-49bb-bebc-40a7035cd099",
   "metadata": {},
   "source": [
    "Используем гиперпараметры количества оценщиков и глубины модели одновременно."
   ]
  },
  {
   "cell_type": "code",
   "execution_count": 7,
   "id": "32ce35a8-2038-4f53-80b5-b1952c385e1d",
   "metadata": {},
   "outputs": [
    {
     "name": "stdout",
     "output_type": "stream",
     "text": [
      "Accuracy налучшей модели на валидационной выборке: 0.7978227060653188 Глубина модели: 10 Количество оценщиков: 50\n"
     ]
    }
   ],
   "source": [
    "# Модель случайный лес с глубиной\n",
    "best_forest_model = None\n",
    "best_forest_valid_result = 0\n",
    "best_depth = 0\n",
    "best_est = 0\n",
    "for est in range(10, 61, 10):\n",
    "    for depth in range (1, 12):\n",
    "        model = RandomForestClassifier(random_state=12345, n_estimators=est, max_depth=depth)\n",
    "        model.fit(features_train, target_train)\n",
    "        prediction_valid = model.predict(features_valid)\n",
    "        result = accuracy_score(target_valid, prediction_valid)\n",
    "        if result > best_forest_valid_result:\n",
    "            best_forest_valid_result = result\n",
    "            best_forest_model = model\n",
    "            best_est = est\n",
    "            best_depth = depth\n",
    "print(\"Accuracy налучшей модели на валидационной выборке:\", best_forest_valid_result, \"Глубина модели:\", best_depth, \"Количество оценщиков:\", best_est)   "
   ]
  },
  {
   "cell_type": "markdown",
   "id": "516908d2-206c-4b01-bf01-81d356cd647c",
   "metadata": {},
   "source": [
    "Модель случайного леса с настройками гиперпараметров количества оценщиков и глубины дает результат лучше модели, не использующий гиперпараметр глубины."
   ]
  },
  {
   "cell_type": "markdown",
   "id": "07d5686f-d50f-4ea8-89f5-49b0ddb09760",
   "metadata": {},
   "source": [
    "Обучим логистическую регрессию."
   ]
  },
  {
   "cell_type": "code",
   "execution_count": 8,
   "id": "3ea2d211-efbd-4ad1-800b-54fa0746a8b7",
   "metadata": {},
   "outputs": [
    {
     "name": "stdout",
     "output_type": "stream",
     "text": [
      "Accuracy модели: 0.7262830482115086\n"
     ]
    }
   ],
   "source": [
    "# Логистическая регрессия\n",
    "logistic_model = LogisticRegression(random_state=12345, solver=\"lbfgs\")\n",
    "logistic_model.fit(features_train, target_train)\n",
    "prediction_valid = logistic_model.predict(features_valid)\n",
    "logistic_valid_result = accuracy_score(target_valid, prediction_valid)\n",
    "print(\"Accuracy модели:\", logistic_valid_result)"
   ]
  },
  {
   "cell_type": "markdown",
   "id": "c550b3db-0a04-4af5-8e0f-919f9f48b7f1",
   "metadata": {},
   "source": [
    "Выведем результаты всех моделей."
   ]
  },
  {
   "cell_type": "code",
   "execution_count": 9,
   "id": "9b17d6a5-18cf-42d1-b52e-739686fc0574",
   "metadata": {},
   "outputs": [
    {
     "name": "stdout",
     "output_type": "stream",
     "text": [
      "Accuracy моделей на валидационной выборке:\n",
      "Accuracy модели дерева решений: 0.7651632970451011\n",
      "Accuracy модели случайный лес: 0.7978227060653188\n",
      "Accuracy модели логистическая регрессия: 0.7262830482115086\n"
     ]
    }
   ],
   "source": [
    "print(\"Accuracy моделей на валидационной выборке:\")\n",
    "print(\"Accuracy модели дерева решений:\", best_tree_valid_result)\n",
    "print(\"Accuracy модели случайный лес:\", best_forest_valid_result)\n",
    "print(\"Accuracy модели логистическая регрессия:\", logistic_valid_result)"
   ]
  },
  {
   "cell_type": "markdown",
   "id": "86a51f1d-1df4-4f02-8463-95d608f779c5",
   "metadata": {},
   "source": [
    "[В начало](#intro)"
   ]
  },
  {
   "cell_type": "markdown",
   "id": "db43f767-5107-40ab-9621-5c5257087c6f",
   "metadata": {},
   "source": [
    "##  Проверка моделей на тестовой выборке"
   ]
  },
  {
   "cell_type": "code",
   "execution_count": 10,
   "id": "1722725a-642e-41ed-b324-2dbcc4a96a5b",
   "metadata": {},
   "outputs": [
    {
     "name": "stdout",
     "output_type": "stream",
     "text": [
      "Accuracy моделей на тестовой выборке:\n",
      "Accuracy модели дерева решений: 0.7869362363919129\n",
      "Accuracy модели случайный лес: 0.7993779160186625\n",
      "Accuracy модели логистическая регрессия: 0.7589424572317263\n"
     ]
    }
   ],
   "source": [
    "prediction_tree_test = best_tree_model.predict(features_test)\n",
    "prediction_forest_test = best_forest_model.predict(features_test)\n",
    "prediction_logistic_test = logistic_model.predict(features_test)\n",
    "\n",
    "tree_test_result = accuracy_score(target_test, prediction_tree_test)\n",
    "forest_test_result = accuracy_score(target_test, prediction_forest_test)\n",
    "logistic_test_result = accuracy_score(target_test, prediction_logistic_test)\n",
    "\n",
    "print(\"Accuracy моделей на тестовой выборке:\")\n",
    "print(\"Accuracy модели дерева решений:\", tree_test_result)\n",
    "print(\"Accuracy модели случайный лес:\", forest_test_result)\n",
    "print(\"Accuracy модели логистическая регрессия:\", logistic_test_result)"
   ]
  },
  {
   "cell_type": "markdown",
   "id": "f9c3c1bc-fe74-49c5-b867-bff99067297d",
   "metadata": {},
   "source": [
    "[В начало](#intro)"
   ]
  },
  {
   "cell_type": "markdown",
   "id": "fc77f6bc-1b27-4110-a643-fbae81ff83b5",
   "metadata": {
    "tags": []
   },
   "source": [
    "##  Проверка моделей на вменяемость"
   ]
  },
  {
   "cell_type": "markdown",
   "id": "f836ec07-7442-4203-919c-88713122005b",
   "metadata": {},
   "source": [
    "Проверим модель на вменяемость при помощи модели DummyClassifier и доли тарифов \"Smart\" и \"Ultra\"."
   ]
  },
  {
   "cell_type": "code",
   "execution_count": 11,
   "id": "b080cc74-5f31-4188-bdfb-b5dda55a71ef",
   "metadata": {},
   "outputs": [
    {
     "name": "stdout",
     "output_type": "stream",
     "text": [
      "Accuracy DummyClassifier: 0.6951788491446346\n"
     ]
    }
   ],
   "source": [
    "dummy_model = DummyClassifier(strategy=\"most_frequent\", random_state=12345)\n",
    "dummy_model.fit(features_train, target_train)\n",
    "dummy_model_result = dummy_model.score(features_test, target_test)\n",
    "print(\"Accuracy DummyClassifier:\", dummy_model_result)"
   ]
  },
  {
   "cell_type": "markdown",
   "id": "1b65d11b-10d8-489f-a835-1dced4d0d2ec",
   "metadata": {},
   "source": [
    "У нашей модели Accuracy выше, поскольку она не предсказывает просто самое частое значение в классах, как это делает модель DummyClassifier с гиперпараметром strategy=\"most_frequent\". Простое предсказывание самого популярного класса дает ниже результат, наша модель вменяема. "
   ]
  },
  {
   "cell_type": "markdown",
   "id": "7b8c01e6-7ba1-4304-8357-0a0e5adae91b",
   "metadata": {},
   "source": [
    "Проверим соотношение пользователей тарифов \"Smart\" и \"Ultra\", если модель адекватна ее Accuracy будет выше. "
   ]
  },
  {
   "cell_type": "code",
   "execution_count": 12,
   "id": "c73d60a7-d30f-447d-91fe-153c7e2dcd9f",
   "metadata": {},
   "outputs": [
    {
     "data": {
      "text/plain": [
       "0.693528313627878"
      ]
     },
     "execution_count": 12,
     "metadata": {},
     "output_type": "execute_result"
    }
   ],
   "source": [
    "(data[\"is_ultra\"]==0).sum() / data.shape[0]"
   ]
  },
  {
   "cell_type": "markdown",
   "id": "df5ea4b3-6a07-4594-b986-0bd42a4d9562",
   "metadata": {},
   "source": [
    "В обоих случая Accuracy нашей модели выше - успех!"
   ]
  },
  {
   "cell_type": "markdown",
   "id": "14f86049-1c64-4fca-8e54-126c19818074",
   "metadata": {
    "tags": []
   },
   "source": [
    "## Выводы"
   ]
  },
  {
   "cell_type": "markdown",
   "id": "03ef67ce-121e-47e2-8124-89a72a1ceb9c",
   "metadata": {},
   "source": [
    "Все представленные модели является вменяемы и могут быть применимы в различных ситуациях в зависимости от бизнес-потребности и особенностей каждой модели.\n",
    "\n",
    "Самая быстрая модель со средним качеством является логистическая регрессия, ее можно использовать, если требуется быстрое предсказание на лету по входным параметрам, где можно закрыть глаза на небольшую неточность модели, скорость его основное преимущество.\n",
    "\n",
    "Если не треубется предсказывать на лету, рекомендуется использовать более точную модель - модель случайного леса. Такие предсказания можно проводиться по крону, который срабатывает по расписанию.\n",
    "\n",
    "В нашем случае Accuracy должно быть не меньше 0.75, на тестовой выборке такой результат выдали модели дерева решений и случайный лес."
   ]
  },
  {
   "cell_type": "markdown",
   "id": "870930ff-68dd-42d8-8fb5-2b654db1c6a3",
   "metadata": {},
   "source": [
    "[В начало](#intro)"
   ]
  }
 ],
 "metadata": {
  "kernelspec": {
   "display_name": "Python 3 (ipykernel)",
   "language": "python",
   "name": "python3"
  },
  "language_info": {
   "codemirror_mode": {
    "name": "ipython",
    "version": 3
   },
   "file_extension": ".py",
   "mimetype": "text/x-python",
   "name": "python",
   "nbconvert_exporter": "python",
   "pygments_lexer": "ipython3",
   "version": "3.11.5"
  },
  "toc": {
   "base_numbering": 1,
   "nav_menu": {},
   "number_sections": true,
   "sideBar": true,
   "skip_h1_title": true,
   "title_cell": "Содержание",
   "title_sidebar": "Contents",
   "toc_cell": true,
   "toc_position": {},
   "toc_section_display": true,
   "toc_window_display": true
  }
 },
 "nbformat": 4,
 "nbformat_minor": 5
}
